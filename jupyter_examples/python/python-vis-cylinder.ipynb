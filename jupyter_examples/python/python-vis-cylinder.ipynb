{
 "cells": [
  {
   "cell_type": "markdown",
   "metadata": {},
   "source": [
    "## Import the needed packages including VTK and SimVascular"
   ]
  },
  {
   "cell_type": "code",
   "execution_count": 1,
   "metadata": {},
   "outputs": [],
   "source": [
    "import vtk\n",
    "import sv\n",
    "from sv import *\n",
    "import sv_vis\n",
    "import sv_vis as vis"
   ]
  },
  {
   "cell_type": "markdown",
   "metadata": {},
   "source": [
    "### User needs to select a directory for files (no spaces in path!)"
   ]
  },
  {
   "cell_type": "code",
   "execution_count": 2,
   "metadata": {},
   "outputs": [],
   "source": [
    "import os"
   ]
  },
  {
   "cell_type": "code",
   "execution_count": null,
   "metadata": {},
   "outputs": [],
   "source": [
    "os.chdir(\"C:/tmp\")"
   ]
  },
  {
   "cell_type": "code",
   "execution_count": 4,
   "metadata": {},
   "outputs": [
    {
     "name": "stdout",
     "output_type": "stream",
     "text": [
      "C:\\tmp\n"
     ]
    }
   ],
   "source": [
    "print(os.getcwd())"
   ]
  },
  {
   "cell_type": "markdown",
   "metadata": {},
   "source": [
    "## Create the objects and display them"
   ]
  },
  {
   "cell_type": "code",
   "execution_count": null,
   "metadata": {},
   "outputs": [],
   "source": [
    "#displat a box and a cylinder in a render window \n",
    "Solid.SetKernel('PolyData')\n",
    "ctr = [0,0,0]\n",
    "axis = [0,0,1]\n",
    "a = Solid.pySolidModel()\n",
    "a.Cylinder('cyl', 1, 5, ctr,axis)\n",
    "a.GetPolyData('poly',0.5)\n",
    "\n",
    "b = Solid.pySolidModel()\n",
    "b.Box3d('box', [5,0.5,0.5], [0,0,0])\n",
    "b.GetPolyData('poly2',0.5)\n",
    "\n",
    "ren, renwin = vis.initRen('demo')\n",
    "act = vis.pRepos(ren,'poly')\n",
    "act2 = vis.pRepos(ren,'poly2')\n",
    "vis.polyDisplayWireframe(ren, 'poly2')\n",
    "\n",
    "vis.interact(ren)"
   ]
  }
 ],
 "metadata": {
  "kernelspec": {
   "display_name": "Python 3",
   "language": "python",
   "name": "python3"
  },
  "language_info": {
   "codemirror_mode": {
    "name": "ipython",
    "version": 3
   },
   "file_extension": ".py",
   "mimetype": "text/x-python",
   "name": "python",
   "nbconvert_exporter": "python",
   "pygments_lexer": "ipython3",
   "version": "3.5.5"
  }
 },
 "nbformat": 4,
 "nbformat_minor": 2
}
